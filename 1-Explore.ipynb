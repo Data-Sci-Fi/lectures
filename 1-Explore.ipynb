{
 "cells": [
  {
   "cell_type": "markdown",
   "metadata": {},
   "source": [
    "- UCI ML Breast Cancer Wisconsin (Diagnostic)\n",
    "- https://archive.ics.uci.edu/ml/datasets/Breast+Cancer+Wisconsin+(Diagnostic)\n",
    "- Demonstration of some feature selection methods"
   ]
  },
  {
   "cell_type": "code",
   "execution_count": 54,
   "metadata": {},
   "outputs": [],
   "source": [
    "import pandas as pd\n",
    "import numpy as np"
   ]
  },
  {
   "cell_type": "code",
   "execution_count": 37,
   "metadata": {},
   "outputs": [],
   "source": [
    "from sklearn.datasets import load_breast_cancer\n",
    "\n",
    "import sklearn.feature_selection as fs "
   ]
  },
  {
   "cell_type": "code",
   "execution_count": 74,
   "metadata": {},
   "outputs": [
    {
     "data": {
      "text/plain": [
       "'0.24.2'"
      ]
     },
     "execution_count": 74,
     "metadata": {},
     "output_type": "execute_result"
    }
   ],
   "source": [
    "pd.__version__"
   ]
  },
  {
   "cell_type": "code",
   "execution_count": 14,
   "metadata": {},
   "outputs": [],
   "source": [
    "sk_data = load_breast_cancer()"
   ]
  },
  {
   "cell_type": "code",
   "execution_count": 15,
   "metadata": {},
   "outputs": [
    {
     "data": {
      "text/plain": [
       "dict_keys(['data', 'target', 'target_names', 'DESCR', 'feature_names', 'filename'])"
      ]
     },
     "execution_count": 15,
     "metadata": {},
     "output_type": "execute_result"
    }
   ],
   "source": [
    "sk_data.keys()"
   ]
  },
  {
   "cell_type": "code",
   "execution_count": 16,
   "metadata": {},
   "outputs": [],
   "source": [
    "#converting to pandas\n",
    "data = pd.DataFrame(sk_data.data, columns=[sk_data.feature_names])\n",
    "data['Target'] = pd.Series(data=sk_data.target, index=data.index)"
   ]
  },
  {
   "cell_type": "code",
   "execution_count": 84,
   "metadata": {},
   "outputs": [
    {
     "data": {
      "text/plain": [
       "array([0.36804301])"
      ]
     },
     "execution_count": 84,
     "metadata": {},
     "output_type": "execute_result"
    }
   ],
   "source": [
    "#how it works on a single feature, there are some numpy conversations\n",
    "fs.mutual_info_classif(data['mean radius'].values.reshape(-1,1), data['Target'].values.ravel())"
   ]
  },
  {
   "cell_type": "code",
   "execution_count": 85,
   "metadata": {},
   "outputs": [
    {
     "name": "stdout",
     "output_type": "stream",
     "text": [
      "mean radius : 0.36984366946713365\n",
      "mean texture : 0.09354081267126113\n",
      "mean perimeter : 0.4038848295696813\n",
      "mean area : 0.36081165344954047\n",
      "mean smoothness : 0.07666868105517732\n",
      "mean compactness : 0.21259664689066327\n",
      "mean concavity : 0.3725190841956705\n",
      "mean concave points : 0.43923116822142316\n",
      "mean symmetry : 0.05830004166176206\n",
      "mean fractal dimension : 0.005660367571755476\n",
      "radius error : 0.24664615509551302\n",
      "texture error : 0.0008409096775896518\n",
      "perimeter error : 0.27311058184204917\n",
      "area error : 0.34274787166908394\n",
      "smoothness error : 0.01394127908096987\n",
      "compactness error : 0.0745748800633459\n",
      "concavity error : 0.11805483755213597\n",
      "concave points error : 0.1294845399827722\n",
      "symmetry error : 0.014450547945971337\n",
      "fractal dimension error : 0.03786144347603293\n",
      "worst radius : 0.4560539336501195\n",
      "worst texture : 0.12199587254594157\n",
      "worst perimeter : 0.47813228147602027\n",
      "worst area : 0.4640169280681141\n",
      "worst smoothness : 0.09970751013950907\n",
      "worst compactness : 0.22433620462991954\n",
      "worst concavity : 0.31729912410455796\n",
      "worst concave points : 0.437717997918156\n",
      "worst symmetry : 0.09251218691592378\n",
      "worst fractal dimension : 0.06582276522161923\n"
     ]
    }
   ],
   "source": [
    "#iterate over all features\n",
    "for feature_name in list(sk_data.feature_names):\n",
    "    mi = fs.mutual_info_classif(data[feature_name].values.reshape(-1,1), data['Target'].values.ravel())\n",
    "    print(feature_name, \":\",mi[0])"
   ]
  },
  {
   "cell_type": "code",
   "execution_count": 95,
   "metadata": {},
   "outputs": [],
   "source": [
    "select_k_best_classifier  = fs.SelectKBest(fs.mutual_info_classif, k=5)\n",
    "\n",
    "#.fit_transform(data[list(sk_data.feature_names)], data['Target'].values.ravel())"
   ]
  },
  {
   "cell_type": "code",
   "execution_count": 98,
   "metadata": {},
   "outputs": [
    {
     "data": {
      "text/plain": [
       "{'k': 5,\n",
       " 'score_func': <function sklearn.feature_selection.mutual_info_.mutual_info_classif(X, y, discrete_features='auto', n_neighbors=3, copy=True, random_state=None)>}"
      ]
     },
     "execution_count": 98,
     "metadata": {},
     "output_type": "execute_result"
    }
   ],
   "source": [
    "select_k_best_classifier.get_params()"
   ]
  },
  {
   "cell_type": "code",
   "execution_count": 100,
   "metadata": {},
   "outputs": [],
   "source": [
    "select_k_best_classifier = select_k_best_classifier.fit(data[list(sk_data.feature_names)], data['Target'].values.ravel())"
   ]
  },
  {
   "cell_type": "code",
   "execution_count": 101,
   "metadata": {},
   "outputs": [
    {
     "data": {
      "text/plain": [
       "array([False, False, False, False, False, False, False,  True, False,\n",
       "       False, False, False, False, False, False, False, False, False,\n",
       "       False, False,  True, False,  True,  True, False, False, False,\n",
       "        True, False, False])"
      ]
     },
     "execution_count": 101,
     "metadata": {},
     "output_type": "execute_result"
    }
   ],
   "source": [
    "select_k_best_classifier.get_support()"
   ]
  },
  {
   "cell_type": "code",
   "execution_count": 102,
   "metadata": {},
   "outputs": [
    {
     "data": {
      "text/plain": [
       "{'k': 5,\n",
       " 'score_func': <function sklearn.feature_selection.mutual_info_.mutual_info_classif(X, y, discrete_features='auto', n_neighbors=3, copy=True, random_state=None)>}"
      ]
     },
     "execution_count": 102,
     "metadata": {},
     "output_type": "execute_result"
    }
   ],
   "source": [
    "select_k_best_classifier.get_params()"
   ]
  },
  {
   "cell_type": "code",
   "execution_count": 104,
   "metadata": {},
   "outputs": [],
   "source": [
    "mask = select_k_best_classifier.get_support() #list of booleans\n",
    "new_features = [] # The list of your K best features\n",
    "\n",
    "\n",
    "for bool, feature in zip(mask, list(sk_data.feature_names)):\n",
    "    if bool:\n",
    "        new_features.append(feature)"
   ]
  },
  {
   "cell_type": "code",
   "execution_count": 105,
   "metadata": {},
   "outputs": [
    {
     "data": {
      "text/plain": [
       "['mean concave points',\n",
       " 'worst radius',\n",
       " 'worst perimeter',\n",
       " 'worst area',\n",
       " 'worst concave points']"
      ]
     },
     "execution_count": 105,
     "metadata": {},
     "output_type": "execute_result"
    }
   ],
   "source": [
    "new_features"
   ]
  },
  {
   "cell_type": "code",
   "execution_count": 93,
   "metadata": {},
   "outputs": [
    {
     "data": {
      "text/plain": [
       "numpy.ndarray"
      ]
     },
     "execution_count": 93,
     "metadata": {},
     "output_type": "execute_result"
    }
   ],
   "source": [
    "type(select_k_best_classifier)"
   ]
  },
  {
   "cell_type": "code",
   "execution_count": 94,
   "metadata": {},
   "outputs": [
    {
     "ename": "AttributeError",
     "evalue": "'numpy.ndarray' object has no attribute 'get_support'",
     "output_type": "error",
     "traceback": [
      "\u001b[1;31m---------------------------------------------------------------------------\u001b[0m",
      "\u001b[1;31mAttributeError\u001b[0m                            Traceback (most recent call last)",
      "\u001b[1;32m<ipython-input-94-d302869f664a>\u001b[0m in \u001b[0;36m<module>\u001b[1;34m\u001b[0m\n\u001b[1;32m----> 1\u001b[1;33m \u001b[0mmask\u001b[0m \u001b[1;33m=\u001b[0m \u001b[0mselect_k_best_classifier\u001b[0m\u001b[1;33m.\u001b[0m\u001b[0mget_support\u001b[0m\u001b[1;33m(\u001b[0m\u001b[1;33m)\u001b[0m\u001b[1;33m\u001b[0m\u001b[1;33m\u001b[0m\u001b[0m\n\u001b[0m",
      "\u001b[1;31mAttributeError\u001b[0m: 'numpy.ndarray' object has no attribute 'get_support'"
     ]
    }
   ],
   "source": [
    "mask = select_k_best_classifier.get_support() "
   ]
  },
  {
   "cell_type": "code",
   "execution_count": null,
   "metadata": {},
   "outputs": [],
   "source": []
  }
 ],
 "metadata": {
  "kernelspec": {
   "display_name": "Python 3",
   "language": "python",
   "name": "python3"
  },
  "language_info": {
   "codemirror_mode": {
    "name": "ipython",
    "version": 3
   },
   "file_extension": ".py",
   "mimetype": "text/x-python",
   "name": "python",
   "nbconvert_exporter": "python",
   "pygments_lexer": "ipython3",
   "version": "3.6.8"
  }
 },
 "nbformat": 4,
 "nbformat_minor": 2
}
