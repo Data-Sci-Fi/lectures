{
 "cells": [
  {
   "cell_type": "code",
   "execution_count": 1,
   "metadata": {},
   "outputs": [
    {
     "name": "stdout",
     "output_type": "stream",
     "text": [
      "1.0.1\n"
     ]
    }
   ],
   "source": [
    "import pandas as pd\n",
    "import numpy as np\n",
    "\n",
    "print(pd.__version__)\n",
    "\n",
    "import sklearn.feature_selection as fs\n",
    "\n",
    "from sklearn.datasets import load_breast_cancer\n",
    "from sklearn.model_selection import train_test_split\n",
    "from sklearn.model_selection import StratifiedKFold\n",
    "from sklearn.ensemble import RandomForestClassifier\n",
    "from sklearn.metrics import roc_auc_score\n",
    "\n",
    "from pprint import pprint\n",
    "import itertools as it\n",
    "import random as rnd\n",
    "import statistics as stat\n",
    "from dataclasses import dataclass, field"
   ]
  },
  {
   "cell_type": "code",
   "execution_count": 2,
   "metadata": {},
   "outputs": [],
   "source": [
    "#load sklearn cacer dataset, make a df\n",
    "cancer = load_breast_cancer()\n",
    "df = pd.DataFrame(np.c_[cancer['data'], cancer['target']], columns= np.append(cancer['feature_names'], ['target']))"
   ]
  },
  {
   "cell_type": "code",
   "execution_count": 3,
   "metadata": {},
   "outputs": [
    {
     "data": {
      "text/plain": [
       "array([0.36888507])"
      ]
     },
     "execution_count": 3,
     "metadata": {},
     "output_type": "execute_result"
    }
   ],
   "source": [
    "#how it works on a single feature, there are some numpy conversations\n",
    "#it return 1D np array\n",
    "fs.mutual_info_classif(df['mean radius'].values.reshape(-1,1), df['target'].values.ravel())"
   ]
  },
  {
   "cell_type": "code",
   "execution_count": 4,
   "metadata": {},
   "outputs": [
    {
     "name": "stdout",
     "output_type": "stream",
     "text": [
      "[('worst perimeter', 0.47256692767995734),\n",
      " ('worst area', 0.4644562953791862),\n",
      " ('worst radius', 0.4543093981621742),\n",
      " ('mean concave points', 0.439200133497031),\n",
      " ('worst concave points', 0.4356648648463073),\n",
      " ('mean perimeter', 0.4024833415714808),\n",
      " ('mean concavity', 0.3752870982554244),\n",
      " ('mean radius', 0.36638900937846497),\n",
      " ('mean area', 0.3581690929247303),\n",
      " ('area error', 0.3415176431980822),\n",
      " ('worst concavity', 0.3159224398631988),\n",
      " ('perimeter error', 0.27201882064483973),\n",
      " ('radius error', 0.24957131855689574),\n",
      " ('worst compactness', 0.22482856238955296),\n",
      " ('mean compactness', 0.21146164637077702),\n",
      " ('concave points error', 0.12733872153642634),\n",
      " ('worst texture', 0.11951278683081101),\n",
      " ('concavity error', 0.11694579405190053),\n",
      " ('worst smoothness', 0.10689698623463717),\n",
      " ('mean texture', 0.0977989039852094),\n",
      " ('worst symmetry', 0.08956724397585569),\n",
      " ('mean smoothness', 0.07774313790374876),\n",
      " ('compactness error', 0.07589158717970124),\n",
      " ('mean symmetry', 0.07251797812505667),\n",
      " ('worst fractal dimension', 0.0675497191893466),\n",
      " ('fractal dimension error', 0.03707685899197588),\n",
      " ('smoothness error', 0.013852544114223875),\n",
      " ('symmetry error', 0.013035080222222772),\n",
      " ('mean fractal dimension', 0.007315183659787561),\n",
      " ('texture error', 0.0017433188917945763)]\n"
     ]
    }
   ],
   "source": [
    "#iterate over all features\n",
    "feature_mi_pairs = []\n",
    "for feature_name in list(cancer.feature_names):\n",
    "    mi = fs.mutual_info_classif(df[feature_name].values.reshape(-1,1), df['target'].values.ravel())\n",
    "    feature_mi_pairs.append((feature_name, mi[0]))\n",
    "\n",
    "    \n",
    "feature_mi_pairs = sorted(feature_mi_pairs, key=lambda tup: tup[1], reverse=True)\n",
    "pprint(feature_mi_pairs)"
   ]
  },
  {
   "cell_type": "code",
   "execution_count": 5,
   "metadata": {},
   "outputs": [
    {
     "name": "stdout",
     "output_type": "stream",
     "text": [
      "['worst perimeter',\n",
      " 'worst area',\n",
      " 'worst radius',\n",
      " 'mean concave points',\n",
      " 'worst concave points',\n",
      " 'mean perimeter',\n",
      " 'mean concavity',\n",
      " 'mean radius',\n",
      " 'mean area',\n",
      " 'area error']\n"
     ]
    }
   ],
   "source": [
    "selected_features = [tpl[0] for tpl in feature_mi_pairs[0:10]]\n",
    "pprint(selected_features)"
   ]
  },
  {
   "cell_type": "code",
   "execution_count": 6,
   "metadata": {},
   "outputs": [],
   "source": [
    "#selected_features = cancer['feature_names']"
   ]
  },
  {
   "cell_type": "code",
   "execution_count": 7,
   "metadata": {},
   "outputs": [
    {
     "data": {
      "text/plain": [
       "10"
      ]
     },
     "execution_count": 7,
     "metadata": {},
     "output_type": "execute_result"
    }
   ],
   "source": [
    "len(selected_features)"
   ]
  },
  {
   "cell_type": "code",
   "execution_count": 8,
   "metadata": {},
   "outputs": [],
   "source": [
    "#split test train - forget the test data\n",
    "#X = df[cancer['feature_names']]\n",
    "X = df[selected_features]\n",
    "y = df['target']\n",
    "\n",
    "X_train, X_test, y_train, y_test = train_test_split(X, y, stratify=y, test_size=0.25,random_state=42)"
   ]
  },
  {
   "cell_type": "code",
   "execution_count": 9,
   "metadata": {},
   "outputs": [
    {
     "data": {
      "text/html": [
       "<div>\n",
       "<style scoped>\n",
       "    .dataframe tbody tr th:only-of-type {\n",
       "        vertical-align: middle;\n",
       "    }\n",
       "\n",
       "    .dataframe tbody tr th {\n",
       "        vertical-align: top;\n",
       "    }\n",
       "\n",
       "    .dataframe thead th {\n",
       "        text-align: right;\n",
       "    }\n",
       "</style>\n",
       "<table border=\"1\" class=\"dataframe\">\n",
       "  <thead>\n",
       "    <tr style=\"text-align: right;\">\n",
       "      <th></th>\n",
       "      <th>worst perimeter</th>\n",
       "      <th>worst area</th>\n",
       "      <th>worst radius</th>\n",
       "      <th>mean concave points</th>\n",
       "      <th>worst concave points</th>\n",
       "      <th>mean perimeter</th>\n",
       "      <th>mean concavity</th>\n",
       "      <th>mean radius</th>\n",
       "      <th>mean area</th>\n",
       "      <th>area error</th>\n",
       "    </tr>\n",
       "  </thead>\n",
       "  <tbody>\n",
       "    <tr>\n",
       "      <th>0</th>\n",
       "      <td>184.60</td>\n",
       "      <td>2019.0</td>\n",
       "      <td>25.38</td>\n",
       "      <td>0.14710</td>\n",
       "      <td>0.2654</td>\n",
       "      <td>122.80</td>\n",
       "      <td>0.3001</td>\n",
       "      <td>17.99</td>\n",
       "      <td>1001.0</td>\n",
       "      <td>153.40</td>\n",
       "    </tr>\n",
       "    <tr>\n",
       "      <th>1</th>\n",
       "      <td>158.80</td>\n",
       "      <td>1956.0</td>\n",
       "      <td>24.99</td>\n",
       "      <td>0.07017</td>\n",
       "      <td>0.1860</td>\n",
       "      <td>132.90</td>\n",
       "      <td>0.0869</td>\n",
       "      <td>20.57</td>\n",
       "      <td>1326.0</td>\n",
       "      <td>74.08</td>\n",
       "    </tr>\n",
       "    <tr>\n",
       "      <th>2</th>\n",
       "      <td>152.50</td>\n",
       "      <td>1709.0</td>\n",
       "      <td>23.57</td>\n",
       "      <td>0.12790</td>\n",
       "      <td>0.2430</td>\n",
       "      <td>130.00</td>\n",
       "      <td>0.1974</td>\n",
       "      <td>19.69</td>\n",
       "      <td>1203.0</td>\n",
       "      <td>94.03</td>\n",
       "    </tr>\n",
       "    <tr>\n",
       "      <th>3</th>\n",
       "      <td>98.87</td>\n",
       "      <td>567.7</td>\n",
       "      <td>14.91</td>\n",
       "      <td>0.10520</td>\n",
       "      <td>0.2575</td>\n",
       "      <td>77.58</td>\n",
       "      <td>0.2414</td>\n",
       "      <td>11.42</td>\n",
       "      <td>386.1</td>\n",
       "      <td>27.23</td>\n",
       "    </tr>\n",
       "    <tr>\n",
       "      <th>4</th>\n",
       "      <td>152.20</td>\n",
       "      <td>1575.0</td>\n",
       "      <td>22.54</td>\n",
       "      <td>0.10430</td>\n",
       "      <td>0.1625</td>\n",
       "      <td>135.10</td>\n",
       "      <td>0.1980</td>\n",
       "      <td>20.29</td>\n",
       "      <td>1297.0</td>\n",
       "      <td>94.44</td>\n",
       "    </tr>\n",
       "  </tbody>\n",
       "</table>\n",
       "</div>"
      ],
      "text/plain": [
       "   worst perimeter  worst area  worst radius  mean concave points  \\\n",
       "0           184.60      2019.0         25.38              0.14710   \n",
       "1           158.80      1956.0         24.99              0.07017   \n",
       "2           152.50      1709.0         23.57              0.12790   \n",
       "3            98.87       567.7         14.91              0.10520   \n",
       "4           152.20      1575.0         22.54              0.10430   \n",
       "\n",
       "   worst concave points  mean perimeter  mean concavity  mean radius  \\\n",
       "0                0.2654          122.80          0.3001        17.99   \n",
       "1                0.1860          132.90          0.0869        20.57   \n",
       "2                0.2430          130.00          0.1974        19.69   \n",
       "3                0.2575           77.58          0.2414        11.42   \n",
       "4                0.1625          135.10          0.1980        20.29   \n",
       "\n",
       "   mean area  area error  \n",
       "0     1001.0      153.40  \n",
       "1     1326.0       74.08  \n",
       "2     1203.0       94.03  \n",
       "3      386.1       27.23  \n",
       "4     1297.0       94.44  "
      ]
     },
     "execution_count": 9,
     "metadata": {},
     "output_type": "execute_result"
    }
   ],
   "source": [
    "X.head()"
   ]
  },
  {
   "cell_type": "code",
   "execution_count": 10,
   "metadata": {},
   "outputs": [],
   "source": [
    "def measure_auc(X, y, estimator, estimator_params):\n",
    "    \"\"\"\n",
    "    Given training data X, y and estimator with candidate params find ROC-AUC\n",
    "    \"\"\"\n",
    " \n",
    "    estimator = estimator.set_params(**estimator_params)\n",
    "    \n",
    "    skf = StratifiedKFold(n_splits=5, shuffle=True, random_state=42)\n",
    "    \n",
    "    scores = []\n",
    "    for train_index, test_index in skf.split(X, y):\n",
    "        X_train_piece, X_test_piece = X.iloc[train_index], X.iloc[test_index]\n",
    "        y_train_piece, y_test_piece = y.iloc[train_index], y.iloc[test_index]\n",
    "            \n",
    "        estimator.fit(X_train_piece, y_train_piece)\n",
    "        \n",
    "        score = roc_auc_score(y_test_piece, estimator.predict(X_test_piece))\n",
    "        \n",
    "        scores.append(score)\n",
    "            \n",
    "    #print(scores)\n",
    "    mean = stat.mean(scores)\n",
    "    return mean"
   ]
  },
  {
   "cell_type": "code",
   "execution_count": 11,
   "metadata": {
    "scrolled": true
   },
   "outputs": [
    {
     "data": {
      "text/plain": [
       "0.9307328650165686"
      ]
     },
     "execution_count": 11,
     "metadata": {},
     "output_type": "execute_result"
    }
   ],
   "source": [
    "#An example to set params, given a dictionary of params\n",
    "estimator = RandomForestClassifier(random_state=42)\n",
    "params = {'max_depth': 2, 'n_estimators': 40}\n",
    "estimator = estimator.set_params(**params)\n",
    "\n",
    "#measure performance\n",
    "measure_auc(X_train,y_train, estimator, params)"
   ]
  },
  {
   "cell_type": "code",
   "execution_count": 12,
   "metadata": {
    "scrolled": true
   },
   "outputs": [
    {
     "data": {
      "text/plain": [
       "RandomForestClassifier(bootstrap=True, ccp_alpha=0.0, class_weight=None,\n",
       "                       criterion='gini', max_depth=2, max_features='auto',\n",
       "                       max_leaf_nodes=None, max_samples=None,\n",
       "                       min_impurity_decrease=0.0, min_impurity_split=None,\n",
       "                       min_samples_leaf=1, min_samples_split=2,\n",
       "                       min_weight_fraction_leaf=0.0, n_estimators=40,\n",
       "                       n_jobs=None, oob_score=False, random_state=42, verbose=0,\n",
       "                       warm_start=False)"
      ]
     },
     "execution_count": 12,
     "metadata": {},
     "output_type": "execute_result"
    }
   ],
   "source": [
    "estimator"
   ]
  },
  {
   "cell_type": "code",
   "execution_count": 13,
   "metadata": {},
   "outputs": [
    {
     "name": "stdout",
     "output_type": "stream",
     "text": [
      "Total number of possible parameter cobinations: 24\n"
     ]
    },
    {
     "data": {
      "text/plain": [
       "[{'learning_rate': 0.05, 'max_depth': 3, 'min_child_weight': 1},\n",
       " {'learning_rate': 0.05, 'max_depth': 4, 'min_child_weight': 5},\n",
       " {'learning_rate': 0.1, 'max_depth': 4, 'min_child_weight': 1}]"
      ]
     },
     "execution_count": 13,
     "metadata": {},
     "output_type": "execute_result"
    }
   ],
   "source": [
    "#example below\n",
    "def generate_param_space(space, num_trials):\n",
    "    \"\"\"\n",
    "    generates all possible combinations in parameter space\n",
    "    num_trials: sample size to select from all combinations\n",
    "    \"\"\"\n",
    "    \n",
    "    #Create proper formatted candidates\n",
    "    bag = []\n",
    "    \n",
    "    #key=paramater\n",
    "    for key in sorted(space.keys()):\n",
    "        values = space[key]\n",
    "        key_val_pairs = []\n",
    "        for val in values:\n",
    "            pair = (key,val)\n",
    "            key_val_pairs.append(pair)\n",
    "        bag.append(key_val_pairs)\n",
    "\n",
    "    #all candidates but list of tuples\n",
    "    all_candidate_solutions = list(it.product(*bag))\n",
    "\n",
    "    #convert to list of dictionaries -> better representation\n",
    "    all_candid_sol_as_dict = []\n",
    "    for candid in all_candidate_solutions:\n",
    "        candid_solution = {}\n",
    "        for pair in candid:\n",
    "            key=pair[0]\n",
    "            value=pair[1]\n",
    "            candid_solution[key] = value\n",
    "        all_candid_sol_as_dict.append(candid_solution)\n",
    "\n",
    "    total_combinations = len(all_candid_sol_as_dict)\n",
    "    print(\"Total number of possible parameter combinations:\", total_combinations)\n",
    "\n",
    "    if num_trials > total_combinations:\n",
    "        num_trials = total_combinations\n",
    "        print(\"num_trials > total_combinations, selecting all:\", num_trials)\n",
    "  \n",
    "    random_candidates = rnd.sample(all_candid_sol_as_dict, num_trials)\n",
    "    return random_candidates\n",
    "#####################################################################################\n",
    "\n",
    "test_space = {\"learning_rate\" : [0.05, 0.10, 0.15 ],\n",
    "              \"max_depth\" : [ 3, 4],\n",
    "              \"min_child_weight\" : [ 1, 3, 5, 7 ] }   \n",
    "\n",
    "# all possible parameter combinations 3x3x4\n",
    "generate_param_space(test_space, 3) # randomly select 3 of them. becomes a random search"
   ]
  },
  {
   "cell_type": "code",
   "execution_count": 19,
   "metadata": {},
   "outputs": [
    {
     "name": "stdout",
     "output_type": "stream",
     "text": [
      "Total number of possible parameter cobinations: 16\n",
      "num_trials > total_combinations, selecting all: 16\n",
      "Best Params:\n",
      "(RandomForestClassifier(bootstrap=True, ccp_alpha=0.0, class_weight=None,\n",
      "                       criterion='gini', max_depth=4, max_features='auto',\n",
      "                       max_leaf_nodes=None, max_samples=None,\n",
      "                       min_impurity_decrease=0.0, min_impurity_split=None,\n",
      "                       min_samples_leaf=1, min_samples_split=2,\n",
      "                       min_weight_fraction_leaf=0.0, n_estimators=80,\n",
      "                       n_jobs=None, oob_score=False, random_state=42, verbose=0,\n",
      "                       warm_start=False),\n",
      " {'max_depth': 4, 'n_estimators': 80},\n",
      " 0.9416834325195554)\n"
     ]
    }
   ],
   "source": [
    "test_space = {\"max_depth\" : [2, 3, 4, 5] , \n",
    "              \"n_estimators\" : [50, 60, 70, 80]}   \n",
    "\n",
    "param_space = generate_param_space(test_space, num_trials=20)\n",
    "\n",
    "param_auc_list = []\n",
    "\n",
    "for params in param_space:\n",
    "    #print('params:', params)\n",
    "    \n",
    "    estimator = RandomForestClassifier(random_state=42).set_params(**params) \n",
    "    \n",
    "    auc = measure_auc(X_train, y_train, estimator, params)\n",
    "    \n",
    "    param_auc_list.append((estimator, params, auc))\n",
    "\n",
    "param_auc_list = sorted(param_auc_list, key=lambda tup: tup[2], reverse=True)\n",
    "#pprint(param_auc_list)\n",
    "\n",
    "#the best\n",
    "print('Best Params:')\n",
    "pprint(param_auc_list[0])"
   ]
  },
  {
   "cell_type": "code",
   "execution_count": 15,
   "metadata": {},
   "outputs": [
    {
     "name": "stdout",
     "output_type": "stream",
     "text": [
      "{'max_depth': 4, 'n_estimators': 80}\n"
     ]
    },
    {
     "data": {
      "text/plain": [
       "RandomForestClassifier(bootstrap=True, ccp_alpha=0.0, class_weight=None,\n",
       "                       criterion='gini', max_depth=4, max_features='auto',\n",
       "                       max_leaf_nodes=None, max_samples=None,\n",
       "                       min_impurity_decrease=0.0, min_impurity_split=None,\n",
       "                       min_samples_leaf=1, min_samples_split=2,\n",
       "                       min_weight_fraction_leaf=0.0, n_estimators=80,\n",
       "                       n_jobs=None, oob_score=False, random_state=42, verbose=0,\n",
       "                       warm_start=False)"
      ]
     },
     "execution_count": 15,
     "metadata": {},
     "output_type": "execute_result"
    }
   ],
   "source": [
    "#Re-fit all training data\n",
    "best_params = param_auc_list[0][1]\n",
    "print(best_params)\n",
    "\n",
    "best_estimator = RandomForestClassifier(random_state=42).set_params(**best_params)\n",
    "\n",
    "best_estimator.fit(X_train, y_train)"
   ]
  },
  {
   "cell_type": "code",
   "execution_count": 16,
   "metadata": {},
   "outputs": [
    {
     "data": {
      "text/plain": [
       "0.9811320754716981"
      ]
     },
     "execution_count": 16,
     "metadata": {},
     "output_type": "execute_result"
    }
   ],
   "source": [
    "#performance on training data\n",
    "roc_auc_score(y_train, best_estimator.predict(X_train))"
   ]
  },
  {
   "cell_type": "code",
   "execution_count": 17,
   "metadata": {},
   "outputs": [
    {
     "data": {
      "text/plain": [
       "0.9417190775681342"
      ]
     },
     "execution_count": 17,
     "metadata": {},
     "output_type": "execute_result"
    }
   ],
   "source": [
    "#performance on test data\n",
    "roc_auc_score(y_test, best_estimator.predict(X_test))"
   ]
  },
  {
   "cell_type": "code",
   "execution_count": 18,
   "metadata": {},
   "outputs": [],
   "source": [
    "#all - train 0.990566 vs test 0.951153"
   ]
  },
  {
   "cell_type": "code",
   "execution_count": null,
   "metadata": {},
   "outputs": [],
   "source": []
  },
  {
   "cell_type": "code",
   "execution_count": null,
   "metadata": {},
   "outputs": [],
   "source": []
  }
 ],
 "metadata": {
  "kernelspec": {
   "display_name": "Python 3",
   "language": "python",
   "name": "python3"
  },
  "language_info": {
   "codemirror_mode": {
    "name": "ipython",
    "version": 3
   },
   "file_extension": ".py",
   "mimetype": "text/x-python",
   "name": "python",
   "nbconvert_exporter": "python",
   "pygments_lexer": "ipython3",
   "version": "3.7.6"
  }
 },
 "nbformat": 4,
 "nbformat_minor": 4
}
